{
 "cells": [
  {
   "cell_type": "code",
   "execution_count": 9,
   "metadata": {},
   "outputs": [],
   "source": [
    "import pickle\n",
    "import numpy as np"
   ]
  },
  {
   "cell_type": "code",
   "execution_count": 10,
   "metadata": {},
   "outputs": [],
   "source": [
    "with open('negatives_data_train.pkl', 'rb') as f:\n",
    "    negatives_data_train = pickle.load(f)\n",
    "with open('negatives_targets_train.pkl', 'rb') as f:\n",
    "    negatives_targets_train = pickle.load(f)\n",
    "with open('positives_data_train.pkl', 'rb') as f:\n",
    "    positives_data_train = pickle.load(f)\n",
    "with open('positives_targets_train.pkl', 'rb') as f:\n",
    "    positives_targets_train = pickle.load(f)\n",
    "with open('negatives_data_test.pkl', 'rb') as f:\n",
    "    negatives_data_test = pickle.load(f)\n",
    "with open('negatives_targets_test.pkl', 'rb') as f:\n",
    "    negatives_targets_test = pickle.load(f)\n",
    "with open('positives_data_test.pkl', 'rb') as f:\n",
    "    positives_data_test = pickle.load(f)\n",
    "with open('positives_targets_test.pkl', 'rb') as f:\n",
    "    positives_targets_test = pickle.load(f)\n",
    "with open('unsup_data.pkl', 'rb') as f:\n",
    "    unsup_data = pickle.load(f)"
   ]
  },
  {
   "cell_type": "code",
   "execution_count": 11,
   "metadata": {},
   "outputs": [
    {
     "data": {
      "text/plain": [
       "100000"
      ]
     },
     "execution_count": 11,
     "metadata": {},
     "output_type": "execute_result"
    }
   ],
   "source": [
    "data_train = positives_data_train + negatives_data_train\n",
    "targets_train = positives_targets_train + negatives_targets_train\n",
    "data_test = positives_data_test + negatives_data_test\n",
    "targets_test = positives_targets_test + negatives_targets_test\n",
    "data = data_train + data_test + unsup_data\n",
    "len(data)"
   ]
  },
  {
   "cell_type": "code",
   "execution_count": 171,
   "metadata": {},
   "outputs": [],
   "source": [
    "import matplotlib.pyplot as plt"
   ]
  },
  {
   "cell_type": "code",
   "execution_count": 161,
   "metadata": {},
   "outputs": [],
   "source": [
    "y_train = list(map(lambda x:int(x), targets_train))\n",
    "y_test = list(map(lambda x:int(x), targets_test))"
   ]
  },
  {
   "cell_type": "code",
   "execution_count": 176,
   "metadata": {},
   "outputs": [
    {
     "data": {
      "image/png": "[encoded data removed]",
      "text/plain": [
       "<Figure size 432x288 with 1 Axes>"
      ]
     },
     "metadata": {
      "needs_background": "light"
     },
     "output_type": "display_data"
    }
   ],
   "source": [
    "plt.hist(y_train);"
   ]
  },
  {
   "cell_type": "markdown",
   "metadata": {},
   "source": [
    "# Data preprocessing "
   ]
  },
  {
   "cell_type": "code",
   "execution_count": 12,
   "metadata": {},
   "outputs": [],
   "source": [
    "import re\n",
    "import nltk"
   ]
  },
  {
   "cell_type": "code",
   "execution_count": 237,
   "metadata": {},
   "outputs": [],
   "source": [
    "def prep(review):\n",
    "    \n",
    "    review = re.sub(\"[^a-zA-Z]\", \" \", review)\n",
    "    review = review.lower()\n",
    "    token = nltk.word_tokenize(review)\n",
    "    review = [nltk.stem.SnowballStemmer('english').stem(w) for w in token]\n",
    "    \n",
    "    return \" \".join(review)"
   ]
  },
  {
   "cell_type": "code",
   "execution_count": 265,
   "metadata": {},
   "outputs": [
    {
     "data": {
      "text/plain": [
       "'bromwel high is a cartoon comedi it ran at the same time as some other program about school life such as teacher my year in the teach profess lead me to believ that bromwel high s satir is much closer to realiti than is teacher the scrambl to surviv financi the insight student who can see right through their pathet teacher pomp the petti of the whole situat all remind me of the school i knew and their student when i saw the episod in which a student repeat tri to burn down the school i immedi recal at high a classic line inspector i m here to sack one of your teacher student welcom to bromwel high i expect that mani adult of my age think that bromwel high is far fetch what a piti that it isn t'"
      ]
     },
     "execution_count": 265,
     "metadata": {},
     "output_type": "execute_result"
    }
   ],
   "source": [
    "prep(data[0])"
   ]
  },
  {
   "cell_type": "code",
   "execution_count": 10,
   "metadata": {},
   "outputs": [
    {
     "name": "stdout",
     "output_type": "stream",
     "text": [
      "Wall time: 11min 7s\n"
     ]
    }
   ],
   "source": [
    "%%time\n",
    "data_train_prep = list(map(prep, data_train))\n",
    "data_test_prep = list(map(prep, data_test))\n",
    "unsup_data_prep = list(map(prep, unsup_data))"
   ]
  },
  {
   "cell_type": "code",
   "execution_count": 11,
   "metadata": {},
   "outputs": [],
   "source": [
    "# with open('data_train_prep.pkl', 'wb') as f:\n",
    "#     pickle.dump(data_train_prep, f)\n",
    "# with open('data_test_prep.pkl', 'wb') as f:\n",
    "#     pickle.dump(data_test_prep, f)\n",
    "# with open('unsup_data_prep.pkl', 'wb') as f:\n",
    "#     pickle.dump(unsup_data_prep, f)"
   ]
  },
  {
   "cell_type": "code",
   "execution_count": 14,
   "metadata": {},
   "outputs": [],
   "source": [
    "# with open('unsup_data_prep.pkl', 'rb') as f:\n",
    "#     unsup_data_prep = pickle.load(f)\n",
    "# with open('data_test_prep.pkl', 'rb') as f:\n",
    "#     data_test_prep = pickle.load(f)\n",
    "# with open('data_train_prep.pkl', 'rb') as f:\n",
    "#     data_train_prep = pickle.load(f)"
   ]
  },
  {
   "cell_type": "markdown",
   "metadata": {},
   "source": [
    "# Tf-idf"
   ]
  },
  {
   "cell_type": "code",
   "execution_count": 16,
   "metadata": {},
   "outputs": [],
   "source": [
    "from sklearn.feature_extraction.text import TfidfVectorizer\n",
    "from nltk.corpus import words"
   ]
  },
  {
   "cell_type": "code",
   "execution_count": 155,
   "metadata": {},
   "outputs": [],
   "source": [
    "tv = TfidfVectorizer(\n",
    "                    ngram_range = (1,3),\n",
    "                    sublinear_tf = True,\n",
    "                    max_features = 40000\n",
    "                    )"
   ]
  },
  {
   "cell_type": "code",
   "execution_count": 156,
   "metadata": {},
   "outputs": [
    {
     "name": "stdout",
     "output_type": "stream",
     "text": [
      "Wall time: 49 s\n"
     ]
    }
   ],
   "source": [
    "%%time\n",
    "vectors = tv.fit_transform(data_train_prep)"
   ]
  },
  {
   "cell_type": "code",
   "execution_count": 157,
   "metadata": {},
   "outputs": [
    {
     "data": {
      "text/plain": [
       "(25000, 40000)"
      ]
     },
     "execution_count": 157,
     "metadata": {},
     "output_type": "execute_result"
    }
   ],
   "source": [
    "vectors.shape"
   ]
  },
  {
   "cell_type": "code",
   "execution_count": 158,
   "metadata": {},
   "outputs": [
    {
     "name": "stdout",
     "output_type": "stream",
     "text": [
      "Wall time: 39.8 s\n"
     ]
    }
   ],
   "source": [
    "%%time\n",
    "X_train_tv = tv.transform(data_train_prep)\n",
    "X_test_tv = tv.transform(data_test_prep) "
   ]
  },
  {
   "cell_type": "markdown",
   "metadata": {},
   "source": [
    "# Modeling"
   ]
  },
  {
   "cell_type": "markdown",
   "metadata": {},
   "source": [
    "## LGR"
   ]
  },
  {
   "cell_type": "code",
   "execution_count": 162,
   "metadata": {},
   "outputs": [],
   "source": [
    "from sklearn.utils import shuffle"
   ]
  },
  {
   "cell_type": "code",
   "execution_count": 163,
   "metadata": {},
   "outputs": [],
   "source": [
    "X_train_tv, y_train = shuffle(X_train_tv, y_train, random_state=0)"
   ]
  },
  {
   "cell_type": "code",
   "execution_count": 164,
   "metadata": {},
   "outputs": [],
   "source": [
    "from sklearn.linear_model import LogisticRegression"
   ]
  },
  {
   "cell_type": "code",
   "execution_count": 165,
   "metadata": {},
   "outputs": [],
   "source": [
    "lgr = LogisticRegression(n_jobs=-1)"
   ]
  },
  {
   "cell_type": "code",
   "execution_count": 166,
   "metadata": {},
   "outputs": [
    {
     "name": "stderr",
     "output_type": "stream",
     "text": [
      "C:\\Users\\Timur\\Anaconda3\\lib\\site-packages\\sklearn\\linear_model\\logistic.py:432: FutureWarning: Default solver will be changed to 'lbfgs' in 0.22. Specify a solver to silence this warning.\n",
      "  FutureWarning)\n",
      "C:\\Users\\Timur\\Anaconda3\\lib\\site-packages\\sklearn\\linear_model\\logistic.py:469: FutureWarning: Default multi_class will be changed to 'auto' in 0.22. Specify the multi_class option to silence this warning.\n",
      "  \"this warning.\", FutureWarning)\n",
      "C:\\Users\\Timur\\Anaconda3\\lib\\site-packages\\sklearn\\linear_model\\logistic.py:1544: UserWarning: 'n_jobs' > 1 does not have any effect when 'solver' is set to 'liblinear'. Got 'n_jobs' = 8.\n",
      "  \" = {}.\".format(effective_n_jobs(self.n_jobs)))\n"
     ]
    },
    {
     "name": "stdout",
     "output_type": "stream",
     "text": [
      "Wall time: 16.4 s\n"
     ]
    },
    {
     "data": {
      "text/plain": [
       "LogisticRegression(C=1.0, class_weight=None, dual=False, fit_intercept=True,\n",
       "                   intercept_scaling=1, l1_ratio=None, max_iter=100,\n",
       "                   multi_class='warn', n_jobs=-1, penalty='l2',\n",
       "                   random_state=None, solver='warn', tol=0.0001, verbose=0,\n",
       "                   warm_start=False)"
      ]
     },
     "execution_count": 166,
     "metadata": {},
     "output_type": "execute_result"
    }
   ],
   "source": [
    "%%time\n",
    "lgr.fit(X_train_tv, y_train)"
   ]
  },
  {
   "cell_type": "code",
   "execution_count": 119,
   "metadata": {},
   "outputs": [],
   "source": [
    "def pos_neg(y):\n",
    "    return list(map(lambda x: 0 if x < 5 else 1, y))"
   ]
  },
  {
   "cell_type": "code",
   "execution_count": 128,
   "metadata": {},
   "outputs": [],
   "source": [
    "import pandas as pd \n",
    "import scikitplot as skplt\n",
    "from sklearn.metrics import confusion_matrix, recall_score, accuracy_score, precision_score"
   ]
  },
  {
   "cell_type": "code",
   "execution_count": 186,
   "metadata": {},
   "outputs": [],
   "source": [
    "def Evaluate(model, X_test, pn=False):\n",
    "\n",
    "    predicted = model.predict(X_test)\n",
    "    actual = y_test\n",
    "    labels = list(set(y_test))\n",
    "    \n",
    "    if pn == True :\n",
    "        predicted = pos_neg(predicted)\n",
    "        actual = pos_neg(actual)\n",
    "        labels = list(set(pos_neg(labels)))\n",
    "    \n",
    "    output_labels = []\n",
    "    output = []\n",
    "    \n",
    "    # Calculate and display confusion matrix\n",
    "    cm = confusion_matrix(actual, predicted, labels=labels)\n",
    "#     print(\"Confusion matrix\\n- x-axis is true labels (none, comp1, etc.)\\n- y-axis is predicted labels\")\n",
    "#     print(cm)\n",
    "    \n",
    "    # Calculate precision, recall, and F1 score\n",
    "    accuracy = np.array([float(np.trace(cm)) / np.sum(cm)] * len(labels))\n",
    "    precision = precision_score(actual, predicted, average=None, labels=labels)\n",
    "    recall = recall_score(actual, predicted, average=None, labels=labels)\n",
    "    f1 = 2 * precision * recall / (precision + recall)\n",
    "    output.extend([accuracy.tolist(), precision.tolist(), recall.tolist(), f1.tolist()])\n",
    "    output_labels.extend([\"accuracy\", \"precision\", \"recall\", \"F1\"])\n",
    "\n",
    "    output_df = pd.DataFrame(output, columns=labels)\n",
    "    output_df.index = output_labels\n",
    "    \n",
    "\n",
    "    skplt.metrics.plot_confusion_matrix(\n",
    "        actual,\n",
    "        predicted,\n",
    "        normalize=True,\n",
    "        title=\"Matrix of confussion (normalized)\",\n",
    "    )\n",
    "    plt.show()\n",
    "                  \n",
    "    return output_df"
   ]
  },
  {
   "cell_type": "code",
   "execution_count": 144,
   "metadata": {},
   "outputs": [],
   "source": [
    "from sklearn.metrics import mean_absolute_error"
   ]
  },
  {
   "cell_type": "code",
   "execution_count": 170,
   "metadata": {},
   "outputs": [
    {
     "data": {
      "text/plain": [
       "1.38692"
      ]
     },
     "execution_count": 170,
     "metadata": {},
     "output_type": "execute_result"
    }
   ],
   "source": [
    "mean_absolute_error(y_test, lgr.predict(X_test_tv))"
   ]
  },
  {
   "cell_type": "code",
   "execution_count": 236,
   "metadata": {},
   "outputs": [
    {
     "data": {
      "image/png": "[encoded data removed]",
      "text/plain": [
       "<Figure size 432x288 with 2 Axes>"
      ]
     },
     "metadata": {
      "needs_background": "light"
     },
     "output_type": "display_data"
    },
    {
     "data": {
      "text/html": [
       "<div>\n",
       "<style scoped>\n",
       "    .dataframe tbody tr th:only-of-type {\n",
       "        vertical-align: middle;\n",
       "    }\n",
       "\n",
       "    .dataframe tbody tr th {\n",
       "        vertical-align: top;\n",
       "    }\n",
       "\n",
       "    .dataframe thead th {\n",
       "        text-align: right;\n",
       "    }\n",
       "</style>\n",
       "<table border=\"1\" class=\"dataframe\">\n",
       "  <thead>\n",
       "    <tr style=\"text-align: right;\">\n",
       "      <th></th>\n",
       "      <th>1</th>\n",
       "      <th>2</th>\n",
       "      <th>3</th>\n",
       "      <th>4</th>\n",
       "      <th>7</th>\n",
       "      <th>8</th>\n",
       "      <th>9</th>\n",
       "      <th>10</th>\n",
       "    </tr>\n",
       "  </thead>\n",
       "  <tbody>\n",
       "    <tr>\n",
       "      <th>accuracy</th>\n",
       "      <td>0.439800</td>\n",
       "      <td>0.439800</td>\n",
       "      <td>0.439800</td>\n",
       "      <td>0.439800</td>\n",
       "      <td>0.439800</td>\n",
       "      <td>0.439800</td>\n",
       "      <td>0.439800</td>\n",
       "      <td>0.439800</td>\n",
       "    </tr>\n",
       "    <tr>\n",
       "      <th>precision</th>\n",
       "      <td>0.509619</td>\n",
       "      <td>0.260870</td>\n",
       "      <td>0.290909</td>\n",
       "      <td>0.347549</td>\n",
       "      <td>0.335455</td>\n",
       "      <td>0.282787</td>\n",
       "      <td>0.257143</td>\n",
       "      <td>0.484920</td>\n",
       "    </tr>\n",
       "    <tr>\n",
       "      <th>recall</th>\n",
       "      <td>0.880924</td>\n",
       "      <td>0.031277</td>\n",
       "      <td>0.094451</td>\n",
       "      <td>0.330930</td>\n",
       "      <td>0.228435</td>\n",
       "      <td>0.242105</td>\n",
       "      <td>0.023038</td>\n",
       "      <td>0.823365</td>\n",
       "    </tr>\n",
       "    <tr>\n",
       "      <th>F1</th>\n",
       "      <td>0.645698</td>\n",
       "      <td>0.055857</td>\n",
       "      <td>0.142602</td>\n",
       "      <td>0.339036</td>\n",
       "      <td>0.271790</td>\n",
       "      <td>0.260870</td>\n",
       "      <td>0.042287</td>\n",
       "      <td>0.610366</td>\n",
       "    </tr>\n",
       "  </tbody>\n",
       "</table>\n",
       "</div>"
      ],
      "text/plain": [
       "                 1         2         3         4         7         8   \\\n",
       "accuracy   0.439800  0.439800  0.439800  0.439800  0.439800  0.439800   \n",
       "precision  0.509619  0.260870  0.290909  0.347549  0.335455  0.282787   \n",
       "recall     0.880924  0.031277  0.094451  0.330930  0.228435  0.242105   \n",
       "F1         0.645698  0.055857  0.142602  0.339036  0.271790  0.260870   \n",
       "\n",
       "                 9         10  \n",
       "accuracy   0.439800  0.439800  \n",
       "precision  0.257143  0.484920  \n",
       "recall     0.023038  0.823365  \n",
       "F1         0.042287  0.610366  "
      ]
     },
     "execution_count": 236,
     "metadata": {},
     "output_type": "execute_result"
    }
   ],
   "source": [
    "Evaluate(lgr, X_test_tv)"
   ]
  },
  {
   "cell_type": "code",
   "execution_count": 242,
   "metadata": {},
   "outputs": [
    {
     "data": {
      "image/png": "[encoded data removed]",
      "text/plain": [
       "<Figure size 432x288 with 2 Axes>"
      ]
     },
     "metadata": {
      "needs_background": "light"
     },
     "output_type": "display_data"
    },
    {
     "data": {
      "text/html": [
       "<div>\n",
       "<style scoped>\n",
       "    .dataframe tbody tr th:only-of-type {\n",
       "        vertical-align: middle;\n",
       "    }\n",
       "\n",
       "    .dataframe tbody tr th {\n",
       "        vertical-align: top;\n",
       "    }\n",
       "\n",
       "    .dataframe thead th {\n",
       "        text-align: right;\n",
       "    }\n",
       "</style>\n",
       "<table border=\"1\" class=\"dataframe\">\n",
       "  <thead>\n",
       "    <tr style=\"text-align: right;\">\n",
       "      <th></th>\n",
       "      <th>0</th>\n",
       "      <th>1</th>\n",
       "    </tr>\n",
       "  </thead>\n",
       "  <tbody>\n",
       "    <tr>\n",
       "      <th>accuracy</th>\n",
       "      <td>0.889240</td>\n",
       "      <td>0.889240</td>\n",
       "    </tr>\n",
       "    <tr>\n",
       "      <th>precision</th>\n",
       "      <td>0.895859</td>\n",
       "      <td>0.882839</td>\n",
       "    </tr>\n",
       "    <tr>\n",
       "      <th>recall</th>\n",
       "      <td>0.880880</td>\n",
       "      <td>0.897600</td>\n",
       "    </tr>\n",
       "    <tr>\n",
       "      <th>F1</th>\n",
       "      <td>0.888306</td>\n",
       "      <td>0.890158</td>\n",
       "    </tr>\n",
       "  </tbody>\n",
       "</table>\n",
       "</div>"
      ],
      "text/plain": [
       "                  0         1\n",
       "accuracy   0.889240  0.889240\n",
       "precision  0.895859  0.882839\n",
       "recall     0.880880  0.897600\n",
       "F1         0.888306  0.890158"
      ]
     },
     "execution_count": 242,
     "metadata": {},
     "output_type": "execute_result"
    }
   ],
   "source": [
    "Evaluate(lgr, X_test_tv, pn = True)"
   ]
  },
  {
   "cell_type": "markdown",
   "metadata": {},
   "source": [
    "# Pretrained embeddings"
   ]
  },
  {
   "cell_type": "code",
   "execution_count": 177,
   "metadata": {},
   "outputs": [],
   "source": [
    "import gensim.downloader as api"
   ]
  },
  {
   "cell_type": "code",
   "execution_count": 178,
   "metadata": {},
   "outputs": [
    {
     "name": "stdout",
     "output_type": "stream",
     "text": [
      "Wall time: 4min 32s\n"
     ]
    }
   ],
   "source": [
    "%%time\n",
    "embeddings = api.load('glove-twitter-100')"
   ]
  },
  {
   "cell_type": "code",
   "execution_count": 183,
   "metadata": {},
   "outputs": [],
   "source": [
    "def vectorize_sum(comment):\n",
    "    \n",
    "    embedding_dim = embeddings.vectors.shape[1]\n",
    "    features = np.zeros([embedding_dim], dtype='float32')\n",
    "    \n",
    "    # наш preproc\n",
    "    words = prep(comment).split()\n",
    "    for word in words:\n",
    "        if word in embeddings:\n",
    "            features += embeddings[f'{word}']\n",
    "    \n",
    "    return features"
   ]
  },
  {
   "cell_type": "code",
   "execution_count": 180,
   "metadata": {},
   "outputs": [
    {
     "name": "stdout",
     "output_type": "stream",
     "text": [
      "Wall time: 6min 44s\n"
     ]
    }
   ],
   "source": [
    "%%time\n",
    "X_train_wv = np.stack([vectorize_sum(text) for text in data_train])\n",
    "X_test_wv = np.stack([vectorize_sum(text) for text in data_test]) "
   ]
  },
  {
   "cell_type": "code",
   "execution_count": 181,
   "metadata": {},
   "outputs": [
    {
     "data": {
      "text/plain": [
       "((25000, 100), (25000, 100))"
      ]
     },
     "execution_count": 181,
     "metadata": {},
     "output_type": "execute_result"
    }
   ],
   "source": [
    "X_train_wv.shape, X_test_wv.shape"
   ]
  },
  {
   "cell_type": "code",
   "execution_count": 184,
   "metadata": {},
   "outputs": [],
   "source": [
    "X_train_wv = shuffle(X_train_wv, random_state = 0)"
   ]
  },
  {
   "cell_type": "code",
   "execution_count": 185,
   "metadata": {},
   "outputs": [
    {
     "name": "stderr",
     "output_type": "stream",
     "text": [
      "C:\\Users\\Timur\\Anaconda3\\lib\\site-packages\\sklearn\\linear_model\\logistic.py:432: FutureWarning: Default solver will be changed to 'lbfgs' in 0.22. Specify a solver to silence this warning.\n",
      "  FutureWarning)\n",
      "C:\\Users\\Timur\\Anaconda3\\lib\\site-packages\\sklearn\\linear_model\\logistic.py:469: FutureWarning: Default multi_class will be changed to 'auto' in 0.22. Specify the multi_class option to silence this warning.\n",
      "  \"this warning.\", FutureWarning)\n",
      "C:\\Users\\Timur\\Anaconda3\\lib\\site-packages\\sklearn\\linear_model\\logistic.py:1544: UserWarning: 'n_jobs' > 1 does not have any effect when 'solver' is set to 'liblinear'. Got 'n_jobs' = 8.\n",
      "  \" = {}.\".format(effective_n_jobs(self.n_jobs)))\n"
     ]
    },
    {
     "name": "stdout",
     "output_type": "stream",
     "text": [
      "Wall time: 55 s\n"
     ]
    },
    {
     "name": "stderr",
     "output_type": "stream",
     "text": [
      "C:\\Users\\Timur\\Anaconda3\\lib\\site-packages\\sklearn\\svm\\base.py:929: ConvergenceWarning: Liblinear failed to converge, increase the number of iterations.\n",
      "  \"the number of iterations.\", ConvergenceWarning)\n"
     ]
    },
    {
     "data": {
      "text/plain": [
       "LogisticRegression(C=1.0, class_weight=None, dual=False, fit_intercept=True,\n",
       "                   intercept_scaling=1, l1_ratio=None, max_iter=100,\n",
       "                   multi_class='warn', n_jobs=-1, penalty='l2',\n",
       "                   random_state=None, solver='warn', tol=0.0001, verbose=0,\n",
       "                   warm_start=False)"
      ]
     },
     "execution_count": 185,
     "metadata": {},
     "output_type": "execute_result"
    }
   ],
   "source": [
    "%%time\n",
    "lgr_wv = LogisticRegression(n_jobs=-1)\n",
    "lgr_wv.fit(X_train_wv, y_train)"
   ]
  },
  {
   "cell_type": "code",
   "execution_count": 191,
   "metadata": {},
   "outputs": [
    {
     "data": {
      "image/png": "[encoded data removed]",
      "text/plain": [
       "<Figure size 432x288 with 2 Axes>"
      ]
     },
     "metadata": {
      "needs_background": "light"
     },
     "output_type": "display_data"
    },
    {
     "data": {
      "text/html": [
       "<div>\n",
       "<style scoped>\n",
       "    .dataframe tbody tr th:only-of-type {\n",
       "        vertical-align: middle;\n",
       "    }\n",
       "\n",
       "    .dataframe tbody tr th {\n",
       "        vertical-align: top;\n",
       "    }\n",
       "\n",
       "    .dataframe thead th {\n",
       "        text-align: right;\n",
       "    }\n",
       "</style>\n",
       "<table border=\"1\" class=\"dataframe\">\n",
       "  <thead>\n",
       "    <tr style=\"text-align: right;\">\n",
       "      <th></th>\n",
       "      <th>1</th>\n",
       "      <th>2</th>\n",
       "      <th>3</th>\n",
       "      <th>4</th>\n",
       "      <th>7</th>\n",
       "      <th>8</th>\n",
       "      <th>9</th>\n",
       "      <th>10</th>\n",
       "    </tr>\n",
       "  </thead>\n",
       "  <tbody>\n",
       "    <tr>\n",
       "      <th>accuracy</th>\n",
       "      <td>0.358800</td>\n",
       "      <td>0.358800</td>\n",
       "      <td>0.358800</td>\n",
       "      <td>0.358800</td>\n",
       "      <td>0.358800</td>\n",
       "      <td>0.358800</td>\n",
       "      <td>0.358800</td>\n",
       "      <td>0.358800</td>\n",
       "    </tr>\n",
       "    <tr>\n",
       "      <th>precision</th>\n",
       "      <td>0.412749</td>\n",
       "      <td>0.152866</td>\n",
       "      <td>0.218531</td>\n",
       "      <td>0.245614</td>\n",
       "      <td>0.243404</td>\n",
       "      <td>0.235368</td>\n",
       "      <td>0.136502</td>\n",
       "      <td>0.396266</td>\n",
       "    </tr>\n",
       "    <tr>\n",
       "      <th>recall</th>\n",
       "      <td>0.805854</td>\n",
       "      <td>0.010426</td>\n",
       "      <td>0.049193</td>\n",
       "      <td>0.164706</td>\n",
       "      <td>0.123971</td>\n",
       "      <td>0.131228</td>\n",
       "      <td>0.057594</td>\n",
       "      <td>0.709142</td>\n",
       "    </tr>\n",
       "    <tr>\n",
       "      <th>F1</th>\n",
       "      <td>0.545896</td>\n",
       "      <td>0.019520</td>\n",
       "      <td>0.080308</td>\n",
       "      <td>0.197183</td>\n",
       "      <td>0.164273</td>\n",
       "      <td>0.168506</td>\n",
       "      <td>0.081008</td>\n",
       "      <td>0.508426</td>\n",
       "    </tr>\n",
       "  </tbody>\n",
       "</table>\n",
       "</div>"
      ],
      "text/plain": [
       "                 1         2         3         4         7         8   \\\n",
       "accuracy   0.358800  0.358800  0.358800  0.358800  0.358800  0.358800   \n",
       "precision  0.412749  0.152866  0.218531  0.245614  0.243404  0.235368   \n",
       "recall     0.805854  0.010426  0.049193  0.164706  0.123971  0.131228   \n",
       "F1         0.545896  0.019520  0.080308  0.197183  0.164273  0.168506   \n",
       "\n",
       "                 9         10  \n",
       "accuracy   0.358800  0.358800  \n",
       "precision  0.136502  0.396266  \n",
       "recall     0.057594  0.709142  \n",
       "F1         0.081008  0.508426  "
      ]
     },
     "execution_count": 191,
     "metadata": {},
     "output_type": "execute_result"
    }
   ],
   "source": [
    "Evaluate(lgr_wv, X_test_wv)"
   ]
  },
  {
   "cell_type": "code",
   "execution_count": 192,
   "metadata": {},
   "outputs": [],
   "source": [
    "lgr2 = LogisticRegression()"
   ]
  },
  {
   "cell_type": "code",
   "execution_count": 193,
   "metadata": {},
   "outputs": [
    {
     "name": "stderr",
     "output_type": "stream",
     "text": [
      "C:\\Users\\Timur\\Anaconda3\\lib\\site-packages\\sklearn\\linear_model\\logistic.py:432: FutureWarning: Default solver will be changed to 'lbfgs' in 0.22. Specify a solver to silence this warning.\n",
      "  FutureWarning)\n"
     ]
    },
    {
     "data": {
      "text/plain": [
       "LogisticRegression(C=1.0, class_weight=None, dual=False, fit_intercept=True,\n",
       "                   intercept_scaling=1, l1_ratio=None, max_iter=100,\n",
       "                   multi_class='warn', n_jobs=None, penalty='l2',\n",
       "                   random_state=None, solver='warn', tol=0.0001, verbose=0,\n",
       "                   warm_start=False)"
      ]
     },
     "execution_count": 193,
     "metadata": {},
     "output_type": "execute_result"
    }
   ],
   "source": [
    "lgr2.fit(X_train_tv, pos_neg(y_train))"
   ]
  },
  {
   "cell_type": "code",
   "execution_count": 215,
   "metadata": {},
   "outputs": [
    {
     "data": {
      "text/plain": [
       "1.44684"
      ]
     },
     "execution_count": 215,
     "metadata": {},
     "output_type": "execute_result"
    }
   ],
   "source": [
    "mean_absolute_error(y_test, list(map(stars, lgr2.predict_proba(X_test_tv))))"
   ]
  },
  {
   "cell_type": "code",
   "execution_count": 214,
   "metadata": {},
   "outputs": [],
   "source": [
    "def stars(proba):\n",
    "    if proba[0] >= proba[1]:\n",
    "        s = 11 - int(round(proba[0] * 10))\n",
    "    else:\n",
    "        s = int(round(proba[1] * 10))\n",
    "    if s == 5:\n",
    "        return 4\n",
    "    elif s == 6:\n",
    "        return 7\n",
    "    else:\n",
    "        return s"
   ]
  },
  {
   "cell_type": "code",
   "execution_count": 202,
   "metadata": {},
   "outputs": [],
   "source": [
    "a = lgr2.predict_proba(X_test_tv[:5])"
   ]
  },
  {
   "cell_type": "code",
   "execution_count": 203,
   "metadata": {},
   "outputs": [
    {
     "data": {
      "text/plain": [
       "[8, 9, 8, 9, 10]"
      ]
     },
     "execution_count": 203,
     "metadata": {},
     "output_type": "execute_result"
    }
   ],
   "source": [
    "list(map(stars, lgr2.predict_proba(X_test_tv)))"
   ]
  },
  {
   "cell_type": "code",
   "execution_count": 216,
   "metadata": {},
   "outputs": [
    {
     "data": {
      "image/png": "[encoded data removed]",
      "text/plain": [
       "<Figure size 432x288 with 2 Axes>"
      ]
     },
     "metadata": {
      "needs_background": "light"
     },
     "output_type": "display_data"
    }
   ],
   "source": [
    "skplt.metrics.plot_confusion_matrix(\n",
    "    y_test,\n",
    "    list(map(stars, lgr2.predict_proba(X_test_tv))),\n",
    "    normalize=True,\n",
    "    title=\"Matrix of confussion (normalized)\",\n",
    ")\n",
    "plt.show()"
   ]
  }
 ],
 "metadata": {
  "kernelspec": {
   "display_name": "Python 3",
   "language": "python",
   "name": "python3"
  },
  "language_info": {
   "codemirror_mode": {
    "name": "ipython",
    "version": 3
   },
   "file_extension": ".py",
   "mimetype": "text/x-python",
   "name": "python",
   "nbconvert_exporter": "python",
   "pygments_lexer": "ipython3",
   "version": "3.7.3"
  }
 },
 "nbformat": 4,
 "nbformat_minor": 2
}
